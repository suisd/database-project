{
 "cells": [
  {
   "cell_type": "code",
   "execution_count": 1,
   "id": "d4a5f746",
   "metadata": {
    "_cell_guid": "b1076dfc-b9ad-4769-8c92-a6c4dae69d19",
    "_uuid": "8f2839f25d086af736a60e9eeb907d3b93b6e0e5",
    "execution": {
     "iopub.execute_input": "2024-01-16T11:30:12.369130Z",
     "iopub.status.busy": "2024-01-16T11:30:12.368147Z",
     "iopub.status.idle": "2024-01-16T11:30:12.788424Z",
     "shell.execute_reply": "2024-01-16T11:30:12.787597Z"
    },
    "papermill": {
     "duration": 0.43266,
     "end_time": "2024-01-16T11:30:12.791719",
     "exception": false,
     "start_time": "2024-01-16T11:30:12.359059",
     "status": "completed"
    },
    "tags": []
   },
   "outputs": [
    {
     "name": "stdout",
     "output_type": "stream",
     "text": [
      "/kaggle/input/tabular-playground-series-jan-2021/sample_submission.csv\n",
      "/kaggle/input/tabular-playground-series-jan-2021/train.csv\n",
      "/kaggle/input/tabular-playground-series-jan-2021/test.csv\n"
     ]
    }
   ],
   "source": [
    "# This Python 3 environment comes with many helpful analytics libraries installed\n",
    "# It is defined by the kaggle/python Docker image: https://github.com/kaggle/docker-python\n",
    "# For example, here's several helpful packages to load\n",
    "\n",
    "import numpy as np # linear algebra\n",
    "import pandas as pd # data processing, CSV file I/O (e.g. pd.read_csv)\n",
    "\n",
    "# Input data files are available in the read-only \"../input/\" directory\n",
    "# For example, running this (by clicking run or pressing Shift+Enter) will list all files under the input directory\n",
    "\n",
    "import os\n",
    "for dirname, _, filenames in os.walk('/kaggle/input'):\n",
    "    for filename in filenames:\n",
    "        print(os.path.join(dirname, filename))\n",
    "\n",
    "# You can write up to 20GB to the current directory (/kaggle/working/) that gets preserved as output when you create a version using \"Save & Run All\" \n",
    "# You can also write temporary files to /kaggle/temp/, but they won't be saved outside of the current session"
   ]
  },
  {
   "cell_type": "code",
   "execution_count": 2,
   "id": "d06f0631",
   "metadata": {
    "execution": {
     "iopub.execute_input": "2024-01-16T11:30:12.804815Z",
     "iopub.status.busy": "2024-01-16T11:30:12.804033Z",
     "iopub.status.idle": "2024-01-16T11:30:14.324860Z",
     "shell.execute_reply": "2024-01-16T11:30:14.323694Z"
    },
    "papermill": {
     "duration": 1.530284,
     "end_time": "2024-01-16T11:30:14.327820",
     "exception": false,
     "start_time": "2024-01-16T11:30:12.797536",
     "status": "completed"
    },
    "tags": []
   },
   "outputs": [
    {
     "name": "stdout",
     "output_type": "stream",
     "text": [
      "/kaggle/input/tabular-playground-series-jan-2021/sample_submission.csv\n",
      "/kaggle/input/tabular-playground-series-jan-2021/train.csv\n",
      "/kaggle/input/tabular-playground-series-jan-2021/test.csv\n"
     ]
    }
   ],
   "source": [
    "import numpy as np\n",
    "import pandas as pd\n",
    "from pathlib import Path\n",
    "\n",
    "import os\n",
    "for dirname, _, filenames in os.walk('/kaggle/input'):\n",
    "    for filename in filenames:\n",
    "        print(os.path.join(dirname, filename))\n",
    "        \n",
    "import matplotlib.pyplot as plt\n",
    "\n",
    "from sklearn.model_selection import train_test_split\n",
    "from sklearn.metrics import mean_squared_error\n",
    "\n",
    "from sklearn.dummy import DummyRegressor\n",
    "from sklearn.linear_model import LinearRegression\n",
    "from sklearn.linear_model import Ridge, Lasso\n",
    "from sklearn.ensemble import RandomForestRegressor\n",
    "        \n",
    "input_path = Path('/kaggle/input/tabular-playground-series-jan-2021/')"
   ]
  },
  {
   "cell_type": "code",
   "execution_count": 3,
   "id": "61e10859",
   "metadata": {
    "execution": {
     "iopub.execute_input": "2024-01-16T11:30:14.341388Z",
     "iopub.status.busy": "2024-01-16T11:30:14.340244Z",
     "iopub.status.idle": "2024-01-16T11:30:16.204874Z",
     "shell.execute_reply": "2024-01-16T11:30:16.203745Z"
    },
    "papermill": {
     "duration": 1.874139,
     "end_time": "2024-01-16T11:30:16.207631",
     "exception": false,
     "start_time": "2024-01-16T11:30:14.333492",
     "status": "completed"
    },
    "tags": []
   },
   "outputs": [
    {
     "data": {
      "text/html": [
       "<div>\n",
       "<style scoped>\n",
       "    .dataframe tbody tr th:only-of-type {\n",
       "        vertical-align: middle;\n",
       "    }\n",
       "\n",
       "    .dataframe tbody tr th {\n",
       "        vertical-align: top;\n",
       "    }\n",
       "\n",
       "    .dataframe thead th {\n",
       "        text-align: right;\n",
       "    }\n",
       "</style>\n",
       "<table border=\"1\" class=\"dataframe\">\n",
       "  <thead>\n",
       "    <tr style=\"text-align: right;\">\n",
       "      <th></th>\n",
       "      <th>cont1</th>\n",
       "      <th>cont2</th>\n",
       "      <th>cont3</th>\n",
       "      <th>cont4</th>\n",
       "      <th>cont5</th>\n",
       "      <th>cont6</th>\n",
       "      <th>cont7</th>\n",
       "      <th>cont8</th>\n",
       "      <th>cont9</th>\n",
       "      <th>cont10</th>\n",
       "      <th>cont11</th>\n",
       "      <th>cont12</th>\n",
       "      <th>cont13</th>\n",
       "      <th>cont14</th>\n",
       "      <th>target</th>\n",
       "    </tr>\n",
       "    <tr>\n",
       "      <th>id</th>\n",
       "      <th></th>\n",
       "      <th></th>\n",
       "      <th></th>\n",
       "      <th></th>\n",
       "      <th></th>\n",
       "      <th></th>\n",
       "      <th></th>\n",
       "      <th></th>\n",
       "      <th></th>\n",
       "      <th></th>\n",
       "      <th></th>\n",
       "      <th></th>\n",
       "      <th></th>\n",
       "      <th></th>\n",
       "      <th></th>\n",
       "    </tr>\n",
       "  </thead>\n",
       "  <tbody>\n",
       "    <tr>\n",
       "      <th>1</th>\n",
       "      <td>0.670390</td>\n",
       "      <td>0.811300</td>\n",
       "      <td>0.643968</td>\n",
       "      <td>0.291791</td>\n",
       "      <td>0.284117</td>\n",
       "      <td>0.855953</td>\n",
       "      <td>0.890700</td>\n",
       "      <td>0.285542</td>\n",
       "      <td>0.558245</td>\n",
       "      <td>0.779418</td>\n",
       "      <td>0.921832</td>\n",
       "      <td>0.866772</td>\n",
       "      <td>0.878733</td>\n",
       "      <td>0.305411</td>\n",
       "      <td>7.243043</td>\n",
       "    </tr>\n",
       "    <tr>\n",
       "      <th>3</th>\n",
       "      <td>0.388053</td>\n",
       "      <td>0.621104</td>\n",
       "      <td>0.686102</td>\n",
       "      <td>0.501149</td>\n",
       "      <td>0.643790</td>\n",
       "      <td>0.449805</td>\n",
       "      <td>0.510824</td>\n",
       "      <td>0.580748</td>\n",
       "      <td>0.418335</td>\n",
       "      <td>0.432632</td>\n",
       "      <td>0.439872</td>\n",
       "      <td>0.434971</td>\n",
       "      <td>0.369957</td>\n",
       "      <td>0.369484</td>\n",
       "      <td>8.203331</td>\n",
       "    </tr>\n",
       "    <tr>\n",
       "      <th>4</th>\n",
       "      <td>0.834950</td>\n",
       "      <td>0.227436</td>\n",
       "      <td>0.301584</td>\n",
       "      <td>0.293408</td>\n",
       "      <td>0.606839</td>\n",
       "      <td>0.829175</td>\n",
       "      <td>0.506143</td>\n",
       "      <td>0.558771</td>\n",
       "      <td>0.587603</td>\n",
       "      <td>0.823312</td>\n",
       "      <td>0.567007</td>\n",
       "      <td>0.677708</td>\n",
       "      <td>0.882938</td>\n",
       "      <td>0.303047</td>\n",
       "      <td>7.776091</td>\n",
       "    </tr>\n",
       "    <tr>\n",
       "      <th>5</th>\n",
       "      <td>0.820708</td>\n",
       "      <td>0.160155</td>\n",
       "      <td>0.546887</td>\n",
       "      <td>0.726104</td>\n",
       "      <td>0.282444</td>\n",
       "      <td>0.785108</td>\n",
       "      <td>0.752758</td>\n",
       "      <td>0.823267</td>\n",
       "      <td>0.574466</td>\n",
       "      <td>0.580843</td>\n",
       "      <td>0.769594</td>\n",
       "      <td>0.818143</td>\n",
       "      <td>0.914281</td>\n",
       "      <td>0.279528</td>\n",
       "      <td>6.957716</td>\n",
       "    </tr>\n",
       "    <tr>\n",
       "      <th>8</th>\n",
       "      <td>0.935278</td>\n",
       "      <td>0.421235</td>\n",
       "      <td>0.303801</td>\n",
       "      <td>0.880214</td>\n",
       "      <td>0.665610</td>\n",
       "      <td>0.830131</td>\n",
       "      <td>0.487113</td>\n",
       "      <td>0.604157</td>\n",
       "      <td>0.874658</td>\n",
       "      <td>0.863427</td>\n",
       "      <td>0.983575</td>\n",
       "      <td>0.900464</td>\n",
       "      <td>0.935918</td>\n",
       "      <td>0.435772</td>\n",
       "      <td>7.951046</td>\n",
       "    </tr>\n",
       "  </tbody>\n",
       "</table>\n",
       "</div>"
      ],
      "text/plain": [
       "       cont1     cont2     cont3     cont4     cont5     cont6     cont7  \\\n",
       "id                                                                         \n",
       "1   0.670390  0.811300  0.643968  0.291791  0.284117  0.855953  0.890700   \n",
       "3   0.388053  0.621104  0.686102  0.501149  0.643790  0.449805  0.510824   \n",
       "4   0.834950  0.227436  0.301584  0.293408  0.606839  0.829175  0.506143   \n",
       "5   0.820708  0.160155  0.546887  0.726104  0.282444  0.785108  0.752758   \n",
       "8   0.935278  0.421235  0.303801  0.880214  0.665610  0.830131  0.487113   \n",
       "\n",
       "       cont8     cont9    cont10    cont11    cont12    cont13    cont14  \\\n",
       "id                                                                         \n",
       "1   0.285542  0.558245  0.779418  0.921832  0.866772  0.878733  0.305411   \n",
       "3   0.580748  0.418335  0.432632  0.439872  0.434971  0.369957  0.369484   \n",
       "4   0.558771  0.587603  0.823312  0.567007  0.677708  0.882938  0.303047   \n",
       "5   0.823267  0.574466  0.580843  0.769594  0.818143  0.914281  0.279528   \n",
       "8   0.604157  0.874658  0.863427  0.983575  0.900464  0.935918  0.435772   \n",
       "\n",
       "      target  \n",
       "id            \n",
       "1   7.243043  \n",
       "3   8.203331  \n",
       "4   7.776091  \n",
       "5   6.957716  \n",
       "8   7.951046  "
      ]
     },
     "metadata": {},
     "output_type": "display_data"
    }
   ],
   "source": [
    "train = pd.read_csv(input_path / 'train.csv', index_col='id')\n",
    "display(train.head())#输出同步文件"
   ]
  },
  {
   "cell_type": "code",
   "execution_count": 4,
   "id": "dfd3bb03",
   "metadata": {
    "execution": {
     "iopub.execute_input": "2024-01-16T11:30:16.220933Z",
     "iopub.status.busy": "2024-01-16T11:30:16.220558Z",
     "iopub.status.idle": "2024-01-16T11:30:17.346048Z",
     "shell.execute_reply": "2024-01-16T11:30:17.344997Z"
    },
    "papermill": {
     "duration": 1.135105,
     "end_time": "2024-01-16T11:30:17.348723",
     "exception": false,
     "start_time": "2024-01-16T11:30:16.213618",
     "status": "completed"
    },
    "tags": []
   },
   "outputs": [
    {
     "data": {
      "text/html": [
       "<div>\n",
       "<style scoped>\n",
       "    .dataframe tbody tr th:only-of-type {\n",
       "        vertical-align: middle;\n",
       "    }\n",
       "\n",
       "    .dataframe tbody tr th {\n",
       "        vertical-align: top;\n",
       "    }\n",
       "\n",
       "    .dataframe thead th {\n",
       "        text-align: right;\n",
       "    }\n",
       "</style>\n",
       "<table border=\"1\" class=\"dataframe\">\n",
       "  <thead>\n",
       "    <tr style=\"text-align: right;\">\n",
       "      <th></th>\n",
       "      <th>cont1</th>\n",
       "      <th>cont2</th>\n",
       "      <th>cont3</th>\n",
       "      <th>cont4</th>\n",
       "      <th>cont5</th>\n",
       "      <th>cont6</th>\n",
       "      <th>cont7</th>\n",
       "      <th>cont8</th>\n",
       "      <th>cont9</th>\n",
       "      <th>cont10</th>\n",
       "      <th>cont11</th>\n",
       "      <th>cont12</th>\n",
       "      <th>cont13</th>\n",
       "      <th>cont14</th>\n",
       "    </tr>\n",
       "    <tr>\n",
       "      <th>id</th>\n",
       "      <th></th>\n",
       "      <th></th>\n",
       "      <th></th>\n",
       "      <th></th>\n",
       "      <th></th>\n",
       "      <th></th>\n",
       "      <th></th>\n",
       "      <th></th>\n",
       "      <th></th>\n",
       "      <th></th>\n",
       "      <th></th>\n",
       "      <th></th>\n",
       "      <th></th>\n",
       "      <th></th>\n",
       "    </tr>\n",
       "  </thead>\n",
       "  <tbody>\n",
       "    <tr>\n",
       "      <th>0</th>\n",
       "      <td>0.353600</td>\n",
       "      <td>0.738780</td>\n",
       "      <td>0.600939</td>\n",
       "      <td>0.293377</td>\n",
       "      <td>0.285691</td>\n",
       "      <td>0.458006</td>\n",
       "      <td>0.620704</td>\n",
       "      <td>0.422249</td>\n",
       "      <td>0.369203</td>\n",
       "      <td>0.435727</td>\n",
       "      <td>0.550540</td>\n",
       "      <td>0.699134</td>\n",
       "      <td>0.286864</td>\n",
       "      <td>0.364515</td>\n",
       "    </tr>\n",
       "    <tr>\n",
       "      <th>2</th>\n",
       "      <td>0.907222</td>\n",
       "      <td>0.189756</td>\n",
       "      <td>0.215531</td>\n",
       "      <td>0.869915</td>\n",
       "      <td>0.301333</td>\n",
       "      <td>0.528958</td>\n",
       "      <td>0.390351</td>\n",
       "      <td>0.521112</td>\n",
       "      <td>0.794779</td>\n",
       "      <td>0.798580</td>\n",
       "      <td>0.446475</td>\n",
       "      <td>0.449037</td>\n",
       "      <td>0.916964</td>\n",
       "      <td>0.513002</td>\n",
       "    </tr>\n",
       "    <tr>\n",
       "      <th>6</th>\n",
       "      <td>0.179287</td>\n",
       "      <td>0.355353</td>\n",
       "      <td>0.623972</td>\n",
       "      <td>0.437812</td>\n",
       "      <td>0.282476</td>\n",
       "      <td>0.320826</td>\n",
       "      <td>0.386789</td>\n",
       "      <td>0.776422</td>\n",
       "      <td>0.222268</td>\n",
       "      <td>0.229102</td>\n",
       "      <td>0.211913</td>\n",
       "      <td>0.222651</td>\n",
       "      <td>0.327164</td>\n",
       "      <td>0.827941</td>\n",
       "    </tr>\n",
       "    <tr>\n",
       "      <th>7</th>\n",
       "      <td>0.359385</td>\n",
       "      <td>0.181049</td>\n",
       "      <td>0.551368</td>\n",
       "      <td>0.206386</td>\n",
       "      <td>0.280763</td>\n",
       "      <td>0.482076</td>\n",
       "      <td>0.506677</td>\n",
       "      <td>0.362793</td>\n",
       "      <td>0.379737</td>\n",
       "      <td>0.345686</td>\n",
       "      <td>0.445276</td>\n",
       "      <td>0.518485</td>\n",
       "      <td>0.299028</td>\n",
       "      <td>0.598166</td>\n",
       "    </tr>\n",
       "    <tr>\n",
       "      <th>10</th>\n",
       "      <td>0.335791</td>\n",
       "      <td>0.682607</td>\n",
       "      <td>0.676481</td>\n",
       "      <td>0.219465</td>\n",
       "      <td>0.282861</td>\n",
       "      <td>0.581721</td>\n",
       "      <td>0.748639</td>\n",
       "      <td>0.350158</td>\n",
       "      <td>0.448915</td>\n",
       "      <td>0.506878</td>\n",
       "      <td>0.817721</td>\n",
       "      <td>0.805895</td>\n",
       "      <td>0.790591</td>\n",
       "      <td>0.249275</td>\n",
       "    </tr>\n",
       "  </tbody>\n",
       "</table>\n",
       "</div>"
      ],
      "text/plain": [
       "       cont1     cont2     cont3     cont4     cont5     cont6     cont7  \\\n",
       "id                                                                         \n",
       "0   0.353600  0.738780  0.600939  0.293377  0.285691  0.458006  0.620704   \n",
       "2   0.907222  0.189756  0.215531  0.869915  0.301333  0.528958  0.390351   \n",
       "6   0.179287  0.355353  0.623972  0.437812  0.282476  0.320826  0.386789   \n",
       "7   0.359385  0.181049  0.551368  0.206386  0.280763  0.482076  0.506677   \n",
       "10  0.335791  0.682607  0.676481  0.219465  0.282861  0.581721  0.748639   \n",
       "\n",
       "       cont8     cont9    cont10    cont11    cont12    cont13    cont14  \n",
       "id                                                                        \n",
       "0   0.422249  0.369203  0.435727  0.550540  0.699134  0.286864  0.364515  \n",
       "2   0.521112  0.794779  0.798580  0.446475  0.449037  0.916964  0.513002  \n",
       "6   0.776422  0.222268  0.229102  0.211913  0.222651  0.327164  0.827941  \n",
       "7   0.362793  0.379737  0.345686  0.445276  0.518485  0.299028  0.598166  \n",
       "10  0.350158  0.448915  0.506878  0.817721  0.805895  0.790591  0.249275  "
      ]
     },
     "metadata": {},
     "output_type": "display_data"
    }
   ],
   "source": [
    "test = pd.read_csv(input_path / 'test.csv', index_col='id')\n",
    "display(test.head())"
   ]
  },
  {
   "cell_type": "code",
   "execution_count": 5,
   "id": "3fc4b1e5",
   "metadata": {
    "execution": {
     "iopub.execute_input": "2024-01-16T11:30:17.362846Z",
     "iopub.status.busy": "2024-01-16T11:30:17.362482Z",
     "iopub.status.idle": "2024-01-16T11:30:17.441173Z",
     "shell.execute_reply": "2024-01-16T11:30:17.440132Z"
    },
    "papermill": {
     "duration": 0.089241,
     "end_time": "2024-01-16T11:30:17.444293",
     "exception": false,
     "start_time": "2024-01-16T11:30:17.355052",
     "status": "completed"
    },
    "tags": []
   },
   "outputs": [
    {
     "data": {
      "text/html": [
       "<div>\n",
       "<style scoped>\n",
       "    .dataframe tbody tr th:only-of-type {\n",
       "        vertical-align: middle;\n",
       "    }\n",
       "\n",
       "    .dataframe tbody tr th {\n",
       "        vertical-align: top;\n",
       "    }\n",
       "\n",
       "    .dataframe thead th {\n",
       "        text-align: right;\n",
       "    }\n",
       "</style>\n",
       "<table border=\"1\" class=\"dataframe\">\n",
       "  <thead>\n",
       "    <tr style=\"text-align: right;\">\n",
       "      <th></th>\n",
       "      <th>target</th>\n",
       "    </tr>\n",
       "    <tr>\n",
       "      <th>id</th>\n",
       "      <th></th>\n",
       "    </tr>\n",
       "  </thead>\n",
       "  <tbody>\n",
       "    <tr>\n",
       "      <th>0</th>\n",
       "      <td>0.5</td>\n",
       "    </tr>\n",
       "    <tr>\n",
       "      <th>2</th>\n",
       "      <td>0.5</td>\n",
       "    </tr>\n",
       "    <tr>\n",
       "      <th>6</th>\n",
       "      <td>0.5</td>\n",
       "    </tr>\n",
       "    <tr>\n",
       "      <th>7</th>\n",
       "      <td>0.5</td>\n",
       "    </tr>\n",
       "    <tr>\n",
       "      <th>10</th>\n",
       "      <td>0.5</td>\n",
       "    </tr>\n",
       "  </tbody>\n",
       "</table>\n",
       "</div>"
      ],
      "text/plain": [
       "    target\n",
       "id        \n",
       "0      0.5\n",
       "2      0.5\n",
       "6      0.5\n",
       "7      0.5\n",
       "10     0.5"
      ]
     },
     "metadata": {},
     "output_type": "display_data"
    }
   ],
   "source": [
    "submission = pd.read_csv(input_path / 'sample_submission.csv', index_col='id')\n",
    "display(submission.head())"
   ]
  },
  {
   "cell_type": "code",
   "execution_count": 6,
   "id": "4a5658f1",
   "metadata": {
    "execution": {
     "iopub.execute_input": "2024-01-16T11:30:17.459666Z",
     "iopub.status.busy": "2024-01-16T11:30:17.459283Z",
     "iopub.status.idle": "2024-01-16T11:30:17.551785Z",
     "shell.execute_reply": "2024-01-16T11:30:17.550571Z"
    },
    "papermill": {
     "duration": 0.10323,
     "end_time": "2024-01-16T11:30:17.554503",
     "exception": false,
     "start_time": "2024-01-16T11:30:17.451273",
     "status": "completed"
    },
    "tags": []
   },
   "outputs": [],
   "source": [
    "target = train.pop('target')\n",
    "X_train, X_test, y_train, y_test = train_test_split(train, target, train_size=0.60)"
   ]
  },
  {
   "cell_type": "code",
   "execution_count": 7,
   "id": "f2dc48b6",
   "metadata": {
    "execution": {
     "iopub.execute_input": "2024-01-16T11:30:17.569367Z",
     "iopub.status.busy": "2024-01-16T11:30:17.568949Z",
     "iopub.status.idle": "2024-01-16T11:30:17.587059Z",
     "shell.execute_reply": "2024-01-16T11:30:17.585902Z"
    },
    "papermill": {
     "duration": 0.028167,
     "end_time": "2024-01-16T11:30:17.589315",
     "exception": false,
     "start_time": "2024-01-16T11:30:17.561148",
     "status": "completed"
    },
    "tags": []
   },
   "outputs": [
    {
     "name": "stdout",
     "output_type": "stream",
     "text": [
      "0.73482\n"
     ]
    }
   ],
   "source": [
    "# Let's get a benchmark score\n",
    "model_dummy = DummyRegressor(strategy='median')\n",
    "model_dummy.fit(X_train, y_train)\n",
    "y_dummy = model_dummy.predict(X_test)\n",
    "score_dummy = mean_squared_error(y_test, y_dummy, squared=False)\n",
    "print(f'{score_dummy:0.5f}') # 0.54118"
   ]
  },
  {
   "cell_type": "code",
   "execution_count": 8,
   "id": "83df878c",
   "metadata": {
    "execution": {
     "iopub.execute_input": "2024-01-16T11:30:17.604526Z",
     "iopub.status.busy": "2024-01-16T11:30:17.604157Z",
     "iopub.status.idle": "2024-01-16T11:30:17.805735Z",
     "shell.execute_reply": "2024-01-16T11:30:17.801869Z"
    },
    "papermill": {
     "duration": 0.213606,
     "end_time": "2024-01-16T11:30:17.809792",
     "exception": false,
     "start_time": "2024-01-16T11:30:17.596186",
     "status": "completed"
    },
    "tags": []
   },
   "outputs": [
    {
     "name": "stdout",
     "output_type": "stream",
     "text": [
      "0.72726\n"
     ]
    }
   ],
   "source": [
    "# Simple Linear Regression\n",
    "model_simple_linear = LinearRegression(fit_intercept=True) # data is not centered, fit intercept\n",
    "model_simple_linear.fit(X_train, y_train)\n",
    "y_simple_linear = model_simple_linear.predict(X_test)\n",
    "score_simple_linear = mean_squared_error(y_test, y_simple_linear, squared=False)\n",
    "print(f'{score_simple_linear:0.5f}')"
   ]
  },
  {
   "cell_type": "markdown",
   "id": "4d6395e5",
   "metadata": {
    "papermill": {
     "duration": 0.032254,
     "end_time": "2024-01-16T11:30:17.879968",
     "exception": false,
     "start_time": "2024-01-16T11:30:17.847714",
     "status": "completed"
    },
    "tags": []
   },
   "source": []
  },
  {
   "cell_type": "code",
   "execution_count": 9,
   "id": "046c8e74",
   "metadata": {
    "execution": {
     "iopub.execute_input": "2024-01-16T11:30:17.911964Z",
     "iopub.status.busy": "2024-01-16T11:30:17.911212Z",
     "iopub.status.idle": "2024-01-16T11:30:17.921865Z",
     "shell.execute_reply": "2024-01-16T11:30:17.920780Z"
    },
    "papermill": {
     "duration": 0.029458,
     "end_time": "2024-01-16T11:30:17.924242",
     "exception": false,
     "start_time": "2024-01-16T11:30:17.894784",
     "status": "completed"
    },
    "tags": []
   },
   "outputs": [],
   "source": [
    "def plot_results(name, y, yhat, num_to_plot=10000, lims=(0,12), figsize=(6,6)):\n",
    "    plt.figure(figsize=figsize)\n",
    "    score = mean_squared_error(y, yhat, squared=False)\n",
    "    plt.scatter(y[:num_to_plot], yhat[:num_to_plot])\n",
    "    plt.plot(lims, lims)\n",
    "    plt.ylim(lims)\n",
    "    plt.xlim(lims)\n",
    "    plt.title(f'{name}: {score:0.5f}', fontsize=18)\n",
    "    plt.show()"
   ]
  },
  {
   "cell_type": "code",
   "execution_count": 10,
   "id": "e45b6215",
   "metadata": {
    "execution": {
     "iopub.execute_input": "2024-01-16T11:30:17.941384Z",
     "iopub.status.busy": "2024-01-16T11:30:17.939501Z",
     "iopub.status.idle": "2024-01-16T11:31:51.889356Z",
     "shell.execute_reply": "2024-01-16T11:31:51.888160Z"
    },
    "papermill": {
     "duration": 93.967895,
     "end_time": "2024-01-16T11:31:51.899130",
     "exception": false,
     "start_time": "2024-01-16T11:30:17.931235",
     "status": "completed"
    },
    "tags": []
   },
   "outputs": [
    {
     "data": {
      "image/png": "[encoded data removed]",
      "text/plain": [
       "<Figure size 600x600 with 1 Axes>"
      ]
     },
     "metadata": {},
     "output_type": "display_data"
    },
    {
     "data": {
      "image/png": "[encoded data removed]",
      "text/plain": [
       "<Figure size 600x600 with 1 Axes>"
      ]
     },
     "metadata": {},
     "output_type": "display_data"
    },
    {
     "data": {
      "image/png": "[encoded data removed]",
      "text/plain": [
       "<Figure size 600x600 with 1 Axes>"
      ]
     },
     "metadata": {},
     "output_type": "display_data"
    },
    {
     "data": {
      "image/png": "[encoded data removed]",
      "text/plain": [
       "<Figure size 600x600 with 1 Axes>"
      ]
     },
     "metadata": {},
     "output_type": "display_data"
    }
   ],
   "source": [
    "model_names = [\"Dummy Median\", \"Linear\",  \"Lasso\", \"Random Forest\"]\n",
    "\n",
    "models = [\n",
    "    DummyRegressor(strategy='median'),\n",
    "    LinearRegression(fit_intercept=True),\n",
    "    Lasso(fit_intercept=True),\n",
    "    RandomForestRegressor(n_estimators=50, n_jobs=-1)]\n",
    "\n",
    "for name, model in zip(model_names, models):\n",
    "    model.fit(X_train, y_train)\n",
    "    y_pred = model.predict(X_test)\n",
    "    plot_results(name, y_test, y_pred)"
   ]
  },
  {
   "cell_type": "code",
   "execution_count": 11,
   "id": "2afe1fae",
   "metadata": {
    "execution": {
     "iopub.execute_input": "2024-01-16T11:31:51.919545Z",
     "iopub.status.busy": "2024-01-16T11:31:51.918741Z",
     "iopub.status.idle": "2024-01-16T11:34:33.079720Z",
     "shell.execute_reply": "2024-01-16T11:34:33.078516Z"
    },
    "papermill": {
     "duration": 161.174451,
     "end_time": "2024-01-16T11:34:33.082827",
     "exception": false,
     "start_time": "2024-01-16T11:31:51.908376",
     "status": "completed"
    },
    "tags": []
   },
   "outputs": [],
   "source": [
    "model = RandomForestRegressor(n_estimators=50, n_jobs=-1)\n",
    "model.fit(train, target)\n",
    "submission['target'] = model.predict(test)\n",
    "submission.to_csv('random_forest.csv')"
   ]
  },
  {
   "cell_type": "code",
   "execution_count": null,
   "id": "8d150d80",
   "metadata": {
    "papermill": {
     "duration": 0.009065,
     "end_time": "2024-01-16T11:34:33.101528",
     "exception": false,
     "start_time": "2024-01-16T11:34:33.092463",
     "status": "completed"
    },
    "tags": []
   },
   "outputs": [],
   "source": []
  },
  {
   "cell_type": "code",
   "execution_count": null,
   "id": "71ade481",
   "metadata": {
    "papermill": {
     "duration": 0.008918,
     "end_time": "2024-01-16T11:34:33.119701",
     "exception": false,
     "start_time": "2024-01-16T11:34:33.110783",
     "status": "completed"
    },
    "tags": []
   },
   "outputs": [],
   "source": []
  },
  {
   "cell_type": "code",
   "execution_count": null,
   "id": "8b654e58",
   "metadata": {
    "papermill": {
     "duration": 0.008867,
     "end_time": "2024-01-16T11:34:33.137889",
     "exception": false,
     "start_time": "2024-01-16T11:34:33.129022",
     "status": "completed"
    },
    "tags": []
   },
   "outputs": [],
   "source": []
  },
  {
   "cell_type": "code",
   "execution_count": null,
   "id": "0221b898",
   "metadata": {
    "papermill": {
     "duration": 0.008841,
     "end_time": "2024-01-16T11:34:33.155896",
     "exception": false,
     "start_time": "2024-01-16T11:34:33.147055",
     "status": "completed"
    },
    "tags": []
   },
   "outputs": [],
   "source": []
  },
  {
   "cell_type": "code",
   "execution_count": null,
   "id": "9ea2e3d5",
   "metadata": {
    "papermill": {
     "duration": 0.009366,
     "end_time": "2024-01-16T11:34:33.174383",
     "exception": false,
     "start_time": "2024-01-16T11:34:33.165017",
     "status": "completed"
    },
    "tags": []
   },
   "outputs": [],
   "source": []
  }
 ],
 "metadata": {
  "kaggle": {
   "accelerator": "none",
   "dataSources": [
    {
     "databundleVersionId": 1769258,
     "sourceId": 24673,
     "sourceType": "competition"
    }
   ],
   "dockerImageVersionId": 30635,
   "isGpuEnabled": false,
   "isInternetEnabled": true,
   "language": "python",
   "sourceType": "notebook"
  },
  "kernelspec": {
   "display_name": "Python 3",
   "language": "python",
   "name": "python3"
  },
  "language_info": {
   "codemirror_mode": {
    "name": "ipython",
    "version": 3
   },
   "file_extension": ".py",
   "mimetype": "text/x-python",
   "name": "python",
   "nbconvert_exporter": "python",
   "pygments_lexer": "ipython3",
   "version": "3.10.12"
  },
  "papermill": {
   "default_parameters": {},
   "duration": 264.966841,
   "end_time": "2024-01-16T11:34:33.905850",
   "environment_variables": {},
   "exception": null,
   "input_path": "__notebook__.ipynb",
   "output_path": "__notebook__.ipynb",
   "parameters": {},
   "start_time": "2024-01-16T11:30:08.939009",
   "version": "2.4.0"
  }
 },
 "nbformat": 4,
 "nbformat_minor": 5
}
